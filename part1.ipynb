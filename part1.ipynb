{
 "cells": [
  {
   "cell_type": "code",
   "execution_count": 39,
   "id": "e1cf93ed-01ee-456a-b741-4cb509bc5f82",
   "metadata": {},
   "outputs": [
    {
     "name": "stdout",
     "output_type": "stream",
     "text": [
      "Dimensions of the dataset:  (515, 17)\n",
      "Data types of each column:\n",
      " restaurant      object\n",
      "item            object\n",
      "calories         int64\n",
      "cal_fat          int64\n",
      "total_fat        int64\n",
      "sat_fat        float64\n",
      "trans_fat      float64\n",
      "cholesterol      int64\n",
      "sodium           int64\n",
      "total_carb       int64\n",
      "fiber          float64\n",
      "sugar            int64\n",
      "protein        float64\n",
      "vit_a          float64\n",
      "vit_c          float64\n",
      "calcium        float64\n",
      "salad           object\n",
      "dtype: object\n",
      "File type: CSV\n"
     ]
    }
   ],
   "source": [
    "import pandas as pd\n",
    "import numpy as np\n",
    "\n",
    "#Imports data file fastfood.csv into panda df object\n",
    "fastfood_df = pd.read_csv('fastfood.csv', header=0, sep=',')\n",
    "\n",
    "#Prints the dimensions of the dataset\n",
    "print(\"Dimensions of the dataset: \", fastfood_df.shape)\n",
    "\n",
    "#Prints the data types of each column\n",
    "print(\"Data types of each column:\\n\", fastfood_df.dtypes)\n",
    "\n",
    "#Prints the file type\n",
    "print(\"File type: CSV\")\n",
    "\n",
    "#An example of the import method is 'import pandas as pd' statement\n",
    "#which imports the pandas library, allowing you to use its \n",
    "#functions and classes. The pd.read_csv() function from pandas is then \n",
    "#used to read the CSV file named \"fastfood.csv\" and \n",
    "#store it in a DataFrame named fastfood_df"
   ]
  },
  {
   "cell_type": "code",
   "execution_count": 40,
   "id": "29c12970",
   "metadata": {},
   "outputs": [
    {
     "data": {
      "text/html": [
       "<div>\n",
       "<style scoped>\n",
       "    .dataframe tbody tr th:only-of-type {\n",
       "        vertical-align: middle;\n",
       "    }\n",
       "\n",
       "    .dataframe tbody tr th {\n",
       "        vertical-align: top;\n",
       "    }\n",
       "\n",
       "    .dataframe thead th {\n",
       "        text-align: right;\n",
       "    }\n",
       "</style>\n",
       "<table border=\"1\" class=\"dataframe\">\n",
       "  <thead>\n",
       "    <tr style=\"text-align: right;\">\n",
       "      <th></th>\n",
       "      <th>restaurant</th>\n",
       "      <th>item</th>\n",
       "      <th>calories</th>\n",
       "      <th>cal_fat</th>\n",
       "      <th>total_fat</th>\n",
       "      <th>sat_fat</th>\n",
       "      <th>trans_fat</th>\n",
       "      <th>cholesterol</th>\n",
       "      <th>sodium</th>\n",
       "      <th>total_carb</th>\n",
       "      <th>fiber</th>\n",
       "      <th>sugar</th>\n",
       "      <th>protein</th>\n",
       "      <th>vit_a</th>\n",
       "      <th>vit_c</th>\n",
       "      <th>calcium</th>\n",
       "      <th>salad</th>\n",
       "    </tr>\n",
       "  </thead>\n",
       "  <tbody>\n",
       "    <tr>\n",
       "      <th>0</th>\n",
       "      <td>Mcdonalds</td>\n",
       "      <td>Artisan Grilled Chicken Sandwich</td>\n",
       "      <td>380</td>\n",
       "      <td>60</td>\n",
       "      <td>7</td>\n",
       "      <td>2.0</td>\n",
       "      <td>0.0</td>\n",
       "      <td>95</td>\n",
       "      <td>1110</td>\n",
       "      <td>44</td>\n",
       "      <td>3.0</td>\n",
       "      <td>11</td>\n",
       "      <td>37.0</td>\n",
       "      <td>4.0</td>\n",
       "      <td>20.0</td>\n",
       "      <td>20.0</td>\n",
       "      <td>Other</td>\n",
       "    </tr>\n",
       "    <tr>\n",
       "      <th>1</th>\n",
       "      <td>Mcdonalds</td>\n",
       "      <td>Single Bacon Smokehouse Burger</td>\n",
       "      <td>840</td>\n",
       "      <td>410</td>\n",
       "      <td>45</td>\n",
       "      <td>17.0</td>\n",
       "      <td>1.5</td>\n",
       "      <td>130</td>\n",
       "      <td>1580</td>\n",
       "      <td>62</td>\n",
       "      <td>2.0</td>\n",
       "      <td>18</td>\n",
       "      <td>46.0</td>\n",
       "      <td>6.0</td>\n",
       "      <td>20.0</td>\n",
       "      <td>20.0</td>\n",
       "      <td>Other</td>\n",
       "    </tr>\n",
       "    <tr>\n",
       "      <th>2</th>\n",
       "      <td>Mcdonalds</td>\n",
       "      <td>Double Bacon Smokehouse Burger</td>\n",
       "      <td>1130</td>\n",
       "      <td>600</td>\n",
       "      <td>67</td>\n",
       "      <td>27.0</td>\n",
       "      <td>3.0</td>\n",
       "      <td>220</td>\n",
       "      <td>1920</td>\n",
       "      <td>63</td>\n",
       "      <td>3.0</td>\n",
       "      <td>18</td>\n",
       "      <td>70.0</td>\n",
       "      <td>10.0</td>\n",
       "      <td>20.0</td>\n",
       "      <td>50.0</td>\n",
       "      <td>Other</td>\n",
       "    </tr>\n",
       "    <tr>\n",
       "      <th>3</th>\n",
       "      <td>Mcdonalds</td>\n",
       "      <td>Grilled Bacon Smokehouse Chicken Sandwich</td>\n",
       "      <td>750</td>\n",
       "      <td>280</td>\n",
       "      <td>31</td>\n",
       "      <td>10.0</td>\n",
       "      <td>0.5</td>\n",
       "      <td>155</td>\n",
       "      <td>1940</td>\n",
       "      <td>62</td>\n",
       "      <td>2.0</td>\n",
       "      <td>18</td>\n",
       "      <td>55.0</td>\n",
       "      <td>6.0</td>\n",
       "      <td>25.0</td>\n",
       "      <td>20.0</td>\n",
       "      <td>Other</td>\n",
       "    </tr>\n",
       "    <tr>\n",
       "      <th>4</th>\n",
       "      <td>Mcdonalds</td>\n",
       "      <td>Crispy Bacon Smokehouse Chicken Sandwich</td>\n",
       "      <td>920</td>\n",
       "      <td>410</td>\n",
       "      <td>45</td>\n",
       "      <td>12.0</td>\n",
       "      <td>0.5</td>\n",
       "      <td>120</td>\n",
       "      <td>1980</td>\n",
       "      <td>81</td>\n",
       "      <td>4.0</td>\n",
       "      <td>18</td>\n",
       "      <td>46.0</td>\n",
       "      <td>6.0</td>\n",
       "      <td>20.0</td>\n",
       "      <td>20.0</td>\n",
       "      <td>Other</td>\n",
       "    </tr>\n",
       "  </tbody>\n",
       "</table>\n",
       "</div>"
      ],
      "text/plain": [
       "  restaurant                                       item  calories  cal_fat  \\\n",
       "0  Mcdonalds           Artisan Grilled Chicken Sandwich       380       60   \n",
       "1  Mcdonalds             Single Bacon Smokehouse Burger       840      410   \n",
       "2  Mcdonalds             Double Bacon Smokehouse Burger      1130      600   \n",
       "3  Mcdonalds  Grilled Bacon Smokehouse Chicken Sandwich       750      280   \n",
       "4  Mcdonalds   Crispy Bacon Smokehouse Chicken Sandwich       920      410   \n",
       "\n",
       "   total_fat  sat_fat  trans_fat  cholesterol  sodium  total_carb  fiber  \\\n",
       "0          7      2.0        0.0           95    1110          44    3.0   \n",
       "1         45     17.0        1.5          130    1580          62    2.0   \n",
       "2         67     27.0        3.0          220    1920          63    3.0   \n",
       "3         31     10.0        0.5          155    1940          62    2.0   \n",
       "4         45     12.0        0.5          120    1980          81    4.0   \n",
       "\n",
       "   sugar  protein  vit_a  vit_c  calcium  salad  \n",
       "0     11     37.0    4.0   20.0     20.0  Other  \n",
       "1     18     46.0    6.0   20.0     20.0  Other  \n",
       "2     18     70.0   10.0   20.0     50.0  Other  \n",
       "3     18     55.0    6.0   25.0     20.0  Other  \n",
       "4     18     46.0    6.0   20.0     20.0  Other  "
      ]
     },
     "execution_count": 40,
     "metadata": {},
     "output_type": "execute_result"
    }
   ],
   "source": [
    "fastfood_df.head()"
   ]
  },
  {
   "cell_type": "code",
   "execution_count": 41,
   "id": "fa126dbe-8573-419f-bedd-eb982b45da72",
   "metadata": {},
   "outputs": [
    {
     "name": "stdout",
     "output_type": "stream",
     "text": [
      "Missing Values Count:\n",
      " restaurant       0\n",
      "item             0\n",
      "calories         0\n",
      "cal_fat          0\n",
      "total_fat        0\n",
      "sat_fat          0\n",
      "trans_fat        0\n",
      "cholesterol      0\n",
      "sodium           0\n",
      "total_carb       0\n",
      "fiber           12\n",
      "sugar            0\n",
      "protein          1\n",
      "vit_a          214\n",
      "vit_c          210\n",
      "calcium        210\n",
      "salad            0\n",
      "dtype: int64\n"
     ]
    }
   ],
   "source": [
    "#Checking all the rows for missing values\n",
    "missing_values_count = fastfood_df.isnull().sum()\n",
    "\n",
    "print(\"Missing Values Count:\\n\", missing_values_count)\n",
    "\n"
   ]
  },
  {
   "cell_type": "code",
   "execution_count": 42,
   "id": "5045d5f3-f47f-46de-aac2-8b0fbbd9ac6b",
   "metadata": {},
   "outputs": [
    {
     "data": {
      "text/html": [
       "<div>\n",
       "<style scoped>\n",
       "    .dataframe tbody tr th:only-of-type {\n",
       "        vertical-align: middle;\n",
       "    }\n",
       "\n",
       "    .dataframe tbody tr th {\n",
       "        vertical-align: top;\n",
       "    }\n",
       "\n",
       "    .dataframe thead th {\n",
       "        text-align: right;\n",
       "    }\n",
       "</style>\n",
       "<table border=\"1\" class=\"dataframe\">\n",
       "  <thead>\n",
       "    <tr style=\"text-align: right;\">\n",
       "      <th></th>\n",
       "      <th>restaurant</th>\n",
       "      <th>item</th>\n",
       "      <th>calories</th>\n",
       "      <th>cal_fat</th>\n",
       "      <th>total_fat</th>\n",
       "      <th>sat_fat</th>\n",
       "      <th>trans_fat</th>\n",
       "      <th>cholesterol</th>\n",
       "      <th>sodium</th>\n",
       "      <th>total_carb</th>\n",
       "      <th>fiber</th>\n",
       "      <th>sugar</th>\n",
       "      <th>protein</th>\n",
       "      <th>vit_a</th>\n",
       "      <th>vit_c</th>\n",
       "      <th>calcium</th>\n",
       "      <th>salad</th>\n",
       "    </tr>\n",
       "  </thead>\n",
       "  <tbody>\n",
       "    <tr>\n",
       "      <th>0</th>\n",
       "      <td>Mcdonalds</td>\n",
       "      <td>Artisan Grilled Chicken Sandwich</td>\n",
       "      <td>380</td>\n",
       "      <td>60</td>\n",
       "      <td>7</td>\n",
       "      <td>2.0</td>\n",
       "      <td>0.0</td>\n",
       "      <td>95</td>\n",
       "      <td>1110</td>\n",
       "      <td>44</td>\n",
       "      <td>3.0</td>\n",
       "      <td>11</td>\n",
       "      <td>37.0</td>\n",
       "      <td>4.0</td>\n",
       "      <td>20.0</td>\n",
       "      <td>20.0</td>\n",
       "      <td>Other</td>\n",
       "    </tr>\n",
       "    <tr>\n",
       "      <th>1</th>\n",
       "      <td>Mcdonalds</td>\n",
       "      <td>Single Bacon Smokehouse Burger</td>\n",
       "      <td>840</td>\n",
       "      <td>410</td>\n",
       "      <td>45</td>\n",
       "      <td>17.0</td>\n",
       "      <td>1.5</td>\n",
       "      <td>130</td>\n",
       "      <td>1580</td>\n",
       "      <td>62</td>\n",
       "      <td>2.0</td>\n",
       "      <td>18</td>\n",
       "      <td>46.0</td>\n",
       "      <td>6.0</td>\n",
       "      <td>20.0</td>\n",
       "      <td>20.0</td>\n",
       "      <td>Other</td>\n",
       "    </tr>\n",
       "    <tr>\n",
       "      <th>2</th>\n",
       "      <td>Mcdonalds</td>\n",
       "      <td>Double Bacon Smokehouse Burger</td>\n",
       "      <td>1130</td>\n",
       "      <td>600</td>\n",
       "      <td>67</td>\n",
       "      <td>27.0</td>\n",
       "      <td>3.0</td>\n",
       "      <td>220</td>\n",
       "      <td>1920</td>\n",
       "      <td>63</td>\n",
       "      <td>3.0</td>\n",
       "      <td>18</td>\n",
       "      <td>70.0</td>\n",
       "      <td>10.0</td>\n",
       "      <td>20.0</td>\n",
       "      <td>50.0</td>\n",
       "      <td>Other</td>\n",
       "    </tr>\n",
       "    <tr>\n",
       "      <th>3</th>\n",
       "      <td>Mcdonalds</td>\n",
       "      <td>Grilled Bacon Smokehouse Chicken Sandwich</td>\n",
       "      <td>750</td>\n",
       "      <td>280</td>\n",
       "      <td>31</td>\n",
       "      <td>10.0</td>\n",
       "      <td>0.5</td>\n",
       "      <td>155</td>\n",
       "      <td>1940</td>\n",
       "      <td>62</td>\n",
       "      <td>2.0</td>\n",
       "      <td>18</td>\n",
       "      <td>55.0</td>\n",
       "      <td>6.0</td>\n",
       "      <td>25.0</td>\n",
       "      <td>20.0</td>\n",
       "      <td>Other</td>\n",
       "    </tr>\n",
       "    <tr>\n",
       "      <th>4</th>\n",
       "      <td>Mcdonalds</td>\n",
       "      <td>Crispy Bacon Smokehouse Chicken Sandwich</td>\n",
       "      <td>920</td>\n",
       "      <td>410</td>\n",
       "      <td>45</td>\n",
       "      <td>12.0</td>\n",
       "      <td>0.5</td>\n",
       "      <td>120</td>\n",
       "      <td>1980</td>\n",
       "      <td>81</td>\n",
       "      <td>4.0</td>\n",
       "      <td>18</td>\n",
       "      <td>46.0</td>\n",
       "      <td>6.0</td>\n",
       "      <td>20.0</td>\n",
       "      <td>20.0</td>\n",
       "      <td>Other</td>\n",
       "    </tr>\n",
       "  </tbody>\n",
       "</table>\n",
       "</div>"
      ],
      "text/plain": [
       "  restaurant                                       item  calories  cal_fat  \\\n",
       "0  Mcdonalds           Artisan Grilled Chicken Sandwich       380       60   \n",
       "1  Mcdonalds             Single Bacon Smokehouse Burger       840      410   \n",
       "2  Mcdonalds             Double Bacon Smokehouse Burger      1130      600   \n",
       "3  Mcdonalds  Grilled Bacon Smokehouse Chicken Sandwich       750      280   \n",
       "4  Mcdonalds   Crispy Bacon Smokehouse Chicken Sandwich       920      410   \n",
       "\n",
       "   total_fat  sat_fat  trans_fat  cholesterol  sodium  total_carb  fiber  \\\n",
       "0          7      2.0        0.0           95    1110          44    3.0   \n",
       "1         45     17.0        1.5          130    1580          62    2.0   \n",
       "2         67     27.0        3.0          220    1920          63    3.0   \n",
       "3         31     10.0        0.5          155    1940          62    2.0   \n",
       "4         45     12.0        0.5          120    1980          81    4.0   \n",
       "\n",
       "   sugar  protein  vit_a  vit_c  calcium  salad  \n",
       "0     11     37.0    4.0   20.0     20.0  Other  \n",
       "1     18     46.0    6.0   20.0     20.0  Other  \n",
       "2     18     70.0   10.0   20.0     50.0  Other  \n",
       "3     18     55.0    6.0   25.0     20.0  Other  \n",
       "4     18     46.0    6.0   20.0     20.0  Other  "
      ]
     },
     "execution_count": 42,
     "metadata": {},
     "output_type": "execute_result"
    }
   ],
   "source": [
    "#filling in NA values as 0 (assume food doesn't contain)\n",
    "fastfood_df['vit_a'] = fastfood_df['vit_a'].fillna(0)\n",
    "fastfood_df['vit_c'] = fastfood_df['vit_c'].fillna(0)\n",
    "fastfood_df['calcium'] = fastfood_df['calcium'].fillna(0)\n",
    "fastfood_df['protein'] = fastfood_df['protein'].fillna(0)\n",
    "fastfood_df['fiber'] = fastfood_df['fiber'].fillna(0)\n",
    "\n",
    "\n",
    "fastfood_df.head()"
   ]
  },
  {
   "cell_type": "code",
   "execution_count": 43,
   "id": "1e245250",
   "metadata": {},
   "outputs": [
    {
     "name": "stdout",
     "output_type": "stream",
     "text": [
      "<class 'pandas.core.frame.DataFrame'>\n",
      "RangeIndex: 515 entries, 0 to 514\n",
      "Data columns (total 17 columns):\n",
      " #   Column       Non-Null Count  Dtype  \n",
      "---  ------       --------------  -----  \n",
      " 0   restaurant   515 non-null    object \n",
      " 1   item         515 non-null    object \n",
      " 2   calories     515 non-null    int64  \n",
      " 3   cal_fat      515 non-null    int64  \n",
      " 4   total_fat    515 non-null    int64  \n",
      " 5   sat_fat      515 non-null    float64\n",
      " 6   trans_fat    515 non-null    float64\n",
      " 7   cholesterol  515 non-null    int64  \n",
      " 8   sodium       515 non-null    int64  \n",
      " 9   total_carb   515 non-null    int64  \n",
      " 10  fiber        515 non-null    float64\n",
      " 11  sugar        515 non-null    int64  \n",
      " 12  protein      515 non-null    float64\n",
      " 13  vit_a        515 non-null    float64\n",
      " 14  vit_c        515 non-null    float64\n",
      " 15  calcium      515 non-null    float64\n",
      " 16  salad        515 non-null    object \n",
      "dtypes: float64(7), int64(7), object(3)\n",
      "memory usage: 68.5+ KB\n"
     ]
    }
   ],
   "source": [
    "fastfood_df.info()"
   ]
  },
  {
   "cell_type": "code",
   "execution_count": 44,
   "id": "10218cdb-258a-4637-9e11-d26ade642318",
   "metadata": {},
   "outputs": [
    {
     "name": "stdout",
     "output_type": "stream",
     "text": [
      "      restaurant                                               item  calories  \\\n",
      "192  Burger King                            American Brewhouse King      1550   \n",
      "279  Dairy Queen                               Regular Cheese Curds       550   \n",
      "222  Burger King  Bacon Cheddar Ranch Chicken Salad w/ grilled C...       590   \n",
      "224  Burger King               Chicken BLT Salad w/ Grilled Chicken       550   \n",
      "376       Subway  Chicken & Bacon Ranch Melt Salad (includes Ran...       510   \n",
      "..           ...                                                ...       ...   \n",
      "72   Chick Fil-A                    4 Piece Grilled Chicken Nuggets        70   \n",
      "187        Arbys                                 Chopped Side Salad        70   \n",
      "363       Subway                        Kids Mini Sub Veggie Delite       150   \n",
      "392       Subway                                Veggie Delite Salad        50   \n",
      "302  Dairy Queen                                         Side Salad        20   \n",
      "\n",
      "     cal_fat  total_fat  sat_fat  trans_fat  cholesterol  sodium  total_carb  \\\n",
      "192     1134        126     47.0        8.0          805    1820          21   \n",
      "279      410         45     25.0        0.0          150     900           0   \n",
      "222      360         40     12.0        0.0          150    1540          18   \n",
      "224      330         37     10.0        0.0          115    1640          17   \n",
      "376      340         38     12.0        1.0          100    1040          14   \n",
      "..       ...        ...      ...        ...          ...     ...         ...   \n",
      "72        18          2      1.0        0.0           35     220           1   \n",
      "187       45          5      2.5        0.0           15     100           4   \n",
      "363       15          2      0.0        0.0            0     190          29   \n",
      "392       10          1      0.0        0.0            0      65           9   \n",
      "302        0          0      0.0        0.0            0      15           5   \n",
      "\n",
      "     fiber  sugar  protein  vit_a  vit_c  calcium  salad  \\\n",
      "192    3.0      7    134.0    0.0    0.0      0.0  Other   \n",
      "279    0.0      0     35.0   30.0    0.0    100.0  Other   \n",
      "222    3.0      6     42.0    0.0    0.0      0.0  Other   \n",
      "224    3.0      5     36.0    0.0    0.0      0.0  Other   \n",
      "376    4.0      7     30.0   60.0   60.0     30.0  Other   \n",
      "..     ...    ...      ...    ...    ...      ...    ...   \n",
      "72     0.0      0     13.0    0.0    6.0      0.0  Other   \n",
      "187    1.0      2      5.0   35.0   10.0     10.0  Other   \n",
      "363    3.0      4      6.0    6.0   15.0     20.0  Other   \n",
      "392    4.0      4      3.0   25.0   45.0      4.0  Other   \n",
      "302    2.0      3      1.0   50.0   30.0     15.0  Other   \n",
      "\n",
      "     Total Nutritional Score  \n",
      "192                   129.45  \n",
      "279                    42.00  \n",
      "222                    41.50  \n",
      "224                    37.55  \n",
      "376                    36.30  \n",
      "..                       ...  \n",
      "72                      5.35  \n",
      "187                     5.20  \n",
      "363                     4.65  \n",
      "392                     2.05  \n",
      "302                     0.55  \n",
      "\n",
      "[149 rows x 18 columns]\n"
     ]
    }
   ],
   "source": [
    "nutritional_variables = ['total_carb', 'protein', 'total_fat']\n",
    "\n",
    "nutritional_weights = {'total_carb': 0.05, 'protein': 0.3, 'total_fat': 0.7}\n",
    "\n",
    "fastfood_df['Total Nutritional Score'] = (fastfood_df[nutritional_variables] * nutritional_weights).sum(axis=1)\n",
    "\n",
    "fastfood_df.sort_values('Total Nutritional Score', ascending=False, inplace=True)\n",
    "\n",
    "threshold = 0.7  # Define the desired threshold\n",
    "selected_meals = fastfood_df[fastfood_df['Total Nutritional Score'] >= threshold]\n",
    "\n",
    "# Filter meals with less than 2400 calories\n",
    "filtered_meals = fastfood_df[(fastfood_df['calories'] < 2400) & (fastfood_df['total_carb'] <= 30) & (fastfood_df['protein'] <= 160) & (fastfood_df['total_fat'] <= 182)]\n",
    "\n",
    "print(filtered_meals)\n",
    "\n"
   ]
  },
  {
   "cell_type": "code",
   "execution_count": 45,
   "id": "f5b5e711",
   "metadata": {},
   "outputs": [
    {
     "name": "stdout",
     "output_type": "stream",
     "text": [
      "530.9126213592233\n",
      "26.59029126213592\n",
      "27.836893203883495\n"
     ]
    }
   ],
   "source": [
    "#Average caloric, fat, and carb means \n",
    "calorie_means = fastfood_df[\"calories\"].mean()\n",
    "print(calorie_means)\n",
    "\n",
    "fat_means = fastfood_df[\"total_fat\"].mean()\n",
    "print(fat_means)\n",
    "\n",
    "carbs_means = fastfood_df[\"protein\"].mean()\n",
    "print(carbs_means)"
   ]
  },
  {
   "cell_type": "code",
   "execution_count": 46,
   "id": "34381bc1-6f27-45d8-bea5-5ab9d8908ada",
   "metadata": {},
   "outputs": [
    {
     "name": "stdout",
     "output_type": "stream",
     "text": [
      "      restaurant                                        item  protein  \\\n",
      "39     Mcdonalds  20 piece Buttermilk Crispy Chicken Tenders    186.0   \n",
      "192  Burger King                     American Brewhouse King    134.0   \n",
      "38     Mcdonalds  12 piece Buttermilk Crispy Chicken Tenders    115.0   \n",
      "69   Chick Fil-A                    30 piece Chicken Nuggets    103.0   \n",
      "44     Mcdonalds                  40 piece Chicken McNuggets     98.0   \n",
      "\n",
      "     calories  \n",
      "39       2430  \n",
      "192      1550  \n",
      "38       1510  \n",
      "69        970  \n",
      "44       1770  \n"
     ]
    }
   ],
   "source": [
    "#Collects the top 5 highest protein foods and general information\n",
    "highest_protein_df = fastfood_df.sort_values(by = 'protein', ascending = False)\n",
    "print(highest_protein_df[['restaurant','item','protein','calories']].head(5))"
   ]
  },
  {
   "cell_type": "code",
   "execution_count": 47,
   "id": "78b56450",
   "metadata": {},
   "outputs": [
    {
     "data": {
      "image/png": "[encoded data removed]",
      "text/plain": [
       "<Figure size 640x480 with 1 Axes>"
      ]
     },
     "metadata": {},
     "output_type": "display_data"
    },
    {
     "name": "stdout",
     "output_type": "stream",
     "text": [
      "Correlation Index:  0.5870785944164151\n"
     ]
    }
   ],
   "source": [
    "#Imports plots\n",
    "import matplotlib as mpl\n",
    "import matplotlib.pyplot as plt\n",
    "\n",
    "#Looks for a correlation between high protein and saturated fat \n",
    "plt.scatter(fastfood_df['protein'], fastfood_df['sat_fat'])\n",
    "plt.title(\"Relationship between protein and saturated fat\")\n",
    "plt.xlabel('Protein')\n",
    "plt.ylabel('Saturated Fat')\n",
    "plt.show()\n",
    "\n",
    "index_corr = fastfood_df['protein'].corr(fastfood_df['sat_fat'])\n",
    "print(\"Correlation Index: \", index_corr)"
   ]
  },
  {
   "cell_type": "code",
   "execution_count": 48,
   "id": "d3f33291",
   "metadata": {},
   "outputs": [
    {
     "data": {
      "image/png": "[encoded data removed]",
      "text/plain": [
       "<Figure size 640x480 with 1 Axes>"
      ]
     },
     "metadata": {},
     "output_type": "display_data"
    },
    {
     "name": "stdout",
     "output_type": "stream",
     "text": [
      "Correlation Index:  0.385015240005327\n"
     ]
    }
   ],
   "source": [
    "#Looks for a correlation between high protein and sugar\n",
    "plt.scatter(fastfood_df['protein'], fastfood_df['sugar'])\n",
    "plt.title(\"Relationship between protein and sugar\")\n",
    "plt.xlabel('Protein')\n",
    "plt.ylabel('Sugar')\n",
    "plt.show()\n",
    "\n",
    "index_corr = fastfood_df['protein'].corr(fastfood_df['sugar'])\n",
    "print(\"Correlation Index: \", index_corr)"
   ]
  },
  {
   "attachments": {},
   "cell_type": "markdown",
   "id": "aa02bacc",
   "metadata": {},
   "source": [
    "## Data Analytics <a class=\"anchor\" id=\"data-analytics\"></a>"
   ]
  },
  {
   "cell_type": "code",
   "execution_count": 49,
   "id": "5fd457fb",
   "metadata": {},
   "outputs": [],
   "source": [
    "from sklearn.linear_model import Lasso\n",
    "from sklearn.ensemble import RandomForestRegressor\n",
    "from sklearn.linear_model import LinearRegression\n",
    "from sklearn.model_selection import KFold, cross_val_score\n",
    "from sklearn.metrics import mean_squared_error\n",
    "from sklearn.tree import DecisionTreeRegressor\n",
    "from sklearn.neighbors import KNeighborsRegressor\n",
    "import xgboost as xgb\n",
    "import lightgbm as lgb"
   ]
  },
  {
   "cell_type": "code",
   "execution_count": 67,
   "id": "fad30cbe",
   "metadata": {},
   "outputs": [],
   "source": [
    "train_df = fastfood_df[fastfood_df.columns.difference(['calories', 'restaurant', 'item', 'salad'])]\n",
    "\n",
    "# independent variable: calories\n",
    "# removed the categorical variables"
   ]
  },
  {
   "cell_type": "code",
   "execution_count": 51,
   "id": "ba136c8d",
   "metadata": {},
   "outputs": [],
   "source": [
    "#Validation function\n",
    "n_folds = 5\n",
    "\n",
    "def rmse_cv(model,n_folds):\n",
    "    kf=KFold(n_splits=n_folds)\n",
    "    rmse = np.sqrt(-cross_val_score(model, train_df, fastfood_df.calories, scoring=\"neg_mean_squared_error\", cv = kf))\n",
    "    return rmse"
   ]
  },
  {
   "cell_type": "code",
   "execution_count": 52,
   "id": "57f2804f",
   "metadata": {},
   "outputs": [],
   "source": [
    "lr_w_int = LinearRegression()\n",
    "lr_no_int = LinearRegression(fit_intercept=False)"
   ]
  },
  {
   "cell_type": "code",
   "execution_count": 53,
   "id": "5915fb77",
   "metadata": {},
   "outputs": [],
   "source": [
    "neigh = KNeighborsRegressor(n_neighbors=10)"
   ]
  },
  {
   "cell_type": "code",
   "execution_count": 54,
   "id": "2977c18d",
   "metadata": {},
   "outputs": [],
   "source": [
    "rf = RandomForestRegressor(n_estimators=100)"
   ]
  },
  {
   "cell_type": "code",
   "execution_count": 55,
   "id": "17fcc01d",
   "metadata": {},
   "outputs": [],
   "source": [
    "dt = DecisionTreeRegressor(max_depth = 10)"
   ]
  },
  {
   "cell_type": "code",
   "execution_count": 56,
   "id": "a62de1d2",
   "metadata": {},
   "outputs": [],
   "source": [
    "model_xgb = xgb.XGBRegressor(max_depth=5, n_estimators=1000, learning_rate=0.01)"
   ]
  },
  {
   "cell_type": "code",
   "execution_count": 57,
   "id": "17e17ae6",
   "metadata": {},
   "outputs": [],
   "source": [
    "model_lgb = lgb.LGBMRegressor(learning_rate=0.01, max_depth=5, n_estimators=1000)"
   ]
  },
  {
   "attachments": {},
   "cell_type": "markdown",
   "id": "ad4334ed",
   "metadata": {},
   "source": [
    "#### Algorithm Results on a 5 Fold Cross Validation"
   ]
  },
  {
   "cell_type": "code",
   "execution_count": 58,
   "id": "27b3ef9a",
   "metadata": {},
   "outputs": [
    {
     "name": "stdout",
     "output_type": "stream",
     "text": [
      "Linear Regression (w/ Intercept) score: 30.9399 (34.9017)\n",
      "\n"
     ]
    }
   ],
   "source": [
    "score_linear = rmse_cv(lr_w_int,n_folds)\n",
    "print(\"Linear Regression (w/ Intercept) score: {:.4f} ({:.4f})\\n\".format(score_linear.mean(), score_linear.std()))"
   ]
  },
  {
   "attachments": {},
   "cell_type": "markdown",
   "id": "a9d0fd3b",
   "metadata": {},
   "source": [
    "Linear regression does not generalize well. Removing the intercept adds something called regularization that generalizes better."
   ]
  },
  {
   "cell_type": "code",
   "execution_count": 59,
   "id": "899bf466",
   "metadata": {},
   "outputs": [
    {
     "name": "stdout",
     "output_type": "stream",
     "text": [
      "Linear Regression (No Intercept) score: 30.7144 (34.9430)\n",
      "\n"
     ]
    }
   ],
   "source": [
    "score_linear_no_int = rmse_cv(lr_no_int,n_folds)\n",
    "print(\"Linear Regression (No Intercept) score: {:.4f} ({:.4f})\\n\".format(score_linear_no_int.mean(), score_linear_no_int.std()))"
   ]
  },
  {
   "cell_type": "code",
   "execution_count": 60,
   "id": "263c2e8a",
   "metadata": {},
   "outputs": [
    {
     "name": "stdout",
     "output_type": "stream",
     "text": [
      "Nearest Neighbor (13) score: 158.5063 (119.0352)\n",
      "\n"
     ]
    }
   ],
   "source": [
    "score_neigh = rmse_cv(neigh,n_folds)\n",
    "print(\"Nearest Neighbor (13) score: {:.4f} ({:.4f})\\n\".format(score_neigh.mean(), score_neigh.std()))"
   ]
  },
  {
   "cell_type": "code",
   "execution_count": 61,
   "id": "bb4604cb",
   "metadata": {},
   "outputs": [
    {
     "name": "stdout",
     "output_type": "stream",
     "text": [
      "Decision Tree Regression score: 133.1505 (108.7381)\n",
      "\n"
     ]
    }
   ],
   "source": [
    "score_dt = rmse_cv(dt,n_folds)\n",
    "print(\"Decision Tree Regression score: {:.4f} ({:.4f})\\n\".format(score_dt.mean(), score_dt.std()))"
   ]
  },
  {
   "cell_type": "code",
   "execution_count": 62,
   "id": "a2b450c2",
   "metadata": {},
   "outputs": [
    {
     "name": "stdout",
     "output_type": "stream",
     "text": [
      "Random Forest Regression score: 110.2950 (121.3100)\n",
      "\n"
     ]
    }
   ],
   "source": [
    "score_rf = rmse_cv(rf,n_folds)\n",
    "print(\"Random Forest Regression score: {:.4f} ({:.4f})\\n\".format(score_rf.mean(), score_rf.std()))"
   ]
  },
  {
   "cell_type": "code",
   "execution_count": 63,
   "id": "47507e7e",
   "metadata": {},
   "outputs": [
    {
     "name": "stdout",
     "output_type": "stream",
     "text": [
      "Xgboost score: 102.4115 (123.0296)\n",
      "\n"
     ]
    }
   ],
   "source": [
    "score_xg = rmse_cv(model_xgb,n_folds)\n",
    "print(\"Xgboost score: {:.4f} ({:.4f})\\n\".format(score_xg.mean(), score_xg.std()))"
   ]
  },
  {
   "cell_type": "code",
   "execution_count": 64,
   "id": "5a26f7e5",
   "metadata": {},
   "outputs": [
    {
     "name": "stdout",
     "output_type": "stream",
     "text": [
      "LGBM score: 115.7179 (120.9277)\n",
      "\n"
     ]
    }
   ],
   "source": [
    "score_lgbm = rmse_cv(model_lgb,n_folds)\n",
    "print(\"LGBM score: {:.4f} ({:.4f})\\n\" .format(score_lgbm.mean(), score_lgbm.std()))"
   ]
  },
  {
   "cell_type": "code",
   "execution_count": 65,
   "id": "c099c90c",
   "metadata": {},
   "outputs": [],
   "source": [
    "#plot RMSE and STD for each Algorithm\n",
    "data = {'Linear (No Intercept)':[score_linear_no_int.mean(),score_linear_no_int.std()], 'XGBoost':[score_xg.mean(),score_xg.std()], 'Random Forest': [score_rf.mean(),score_rf.std()]\n",
    "        , 'LightGBM': [score_lgbm.mean(),score_lgbm.std()], 'Decision Tree': [score_dt.mean(),score_dt.std()],'Nearest Neighbor': [score_neigh.mean(),score_neigh.std()]}\n",
    "data_df = pd.DataFrame(data=data).T.reset_index().sort_values(by = [0],ascending = True)\n",
    "data_df.columns = ['Algorithm','RMSE','STD']"
   ]
  },
  {
   "cell_type": "code",
   "execution_count": 66,
   "id": "a74c6c04",
   "metadata": {},
   "outputs": [
    {
     "data": {
      "image/png": "[encoded data removed]",
      "text/plain": [
       "<Figure size 2000x1000 with 1 Axes>"
      ]
     },
     "metadata": {},
     "output_type": "display_data"
    }
   ],
   "source": [
    "# creating the bar plot\n",
    "data_df.plot(kind='bar',x = 'Algorithm', y = ['RMSE', 'STD'], figsize = (20,10), rot=0)\n",
    "plt.xlabel(\"Algorithm\",fontsize=20)\n",
    "plt.ylabel(\"Root Mean Squared Error / Standard Deviation\",fontsize=20)\n",
    "plt.title(\"Root Mean Squared Error by Algorithm\",fontsize=20)\n",
    "plt.show()"
   ]
  },
  {
   "attachments": {},
   "cell_type": "markdown",
   "id": "ffec5f5f",
   "metadata": {},
   "source": [
    "We see that LInear with No Intercept works best."
   ]
  }
 ],
 "metadata": {
  "kernelspec": {
   "display_name": "Python 3 (ipykernel)",
   "language": "python",
   "name": "python3"
  },
  "language_info": {
   "codemirror_mode": {
    "name": "ipython",
    "version": 3
   },
   "file_extension": ".py",
   "mimetype": "text/x-python",
   "name": "python",
   "nbconvert_exporter": "python",
   "pygments_lexer": "ipython3",
   "version": "3.9.1"
  }
 },
 "nbformat": 4,
 "nbformat_minor": 5
}
