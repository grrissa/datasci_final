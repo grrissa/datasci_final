{
 "cells": [
  {
   "cell_type": "code",
   "execution_count": 1,
   "id": "e1cf93ed-01ee-456a-b741-4cb509bc5f82",
   "metadata": {},
   "outputs": [
    {
     "name": "stdout",
     "output_type": "stream",
     "text": [
      "Dimensions of the dataset:  (515, 17)\n",
      "Data types of each column:\n",
      " restaurant      object\n",
      "item            object\n",
      "calories         int64\n",
      "cal_fat          int64\n",
      "total_fat        int64\n",
      "sat_fat        float64\n",
      "trans_fat      float64\n",
      "cholesterol      int64\n",
      "sodium           int64\n",
      "total_carb       int64\n",
      "fiber          float64\n",
      "sugar            int64\n",
      "protein        float64\n",
      "vit_a          float64\n",
      "vit_c          float64\n",
      "calcium        float64\n",
      "salad           object\n",
      "dtype: object\n",
      "File type: CSV\n"
     ]
    }
   ],
   "source": [
    "import pandas as pd\n",
    "\n",
    "#Imports data file fastfood.csv into panda df object\n",
    "fastfood_df = pd.read_csv('fastfood.csv', header=0, sep=',')\n",
    "\n",
    "#Prints the dimensions of the dataset\n",
    "print(\"Dimensions of the dataset: \", fastfood_df.shape)\n",
    "\n",
    "#Prints the data types of each column\n",
    "print(\"Data types of each column:\\n\", fastfood_df.dtypes)\n",
    "\n",
    "#Prints the file type\n",
    "print(\"File type: CSV\")\n",
    "\n",
    "#An example of the import method is 'import pandas as pd' statement\n",
    "#which imports the pandas library, allowing you to use its \n",
    "#functions and classes. The pd.read_csv() function from pandas is then \n",
    "#used to read the CSV file named \"fastfood.csv\" and \n",
    "#store it in a DataFrame named fastfood_df"
   ]
  },
  {
   "cell_type": "code",
   "execution_count": 2,
   "id": "fa126dbe-8573-419f-bedd-eb982b45da72",
   "metadata": {},
   "outputs": [
    {
     "name": "stdout",
     "output_type": "stream",
     "text": [
      "Missing Values Count:\n",
      " restaurant       0\n",
      "item             0\n",
      "calories         0\n",
      "cal_fat          0\n",
      "total_fat        0\n",
      "sat_fat          0\n",
      "trans_fat        0\n",
      "cholesterol      0\n",
      "sodium           0\n",
      "total_carb       0\n",
      "fiber           12\n",
      "sugar            0\n",
      "protein          1\n",
      "vit_a          214\n",
      "vit_c          210\n",
      "calcium        210\n",
      "salad            0\n",
      "dtype: int64\n"
     ]
    }
   ],
   "source": [
    "#Checking all the rows for missing values\n",
    "missing_values_count = fastfood_df.isnull().sum()\n",
    "\n",
    "print(\"Missing Values Count:\\n\", missing_values_count)\n",
    "\n"
   ]
  },
  {
   "cell_type": "code",
   "execution_count": 3,
   "id": "5045d5f3-f47f-46de-aac2-8b0fbbd9ac6b",
   "metadata": {},
   "outputs": [
    {
     "name": "stdout",
     "output_type": "stream",
     "text": [
      "<class 'pandas.core.frame.DataFrame'>\n",
      "RangeIndex: 515 entries, 0 to 514\n",
      "Data columns (total 17 columns):\n",
      " #   Column       Non-Null Count  Dtype  \n",
      "---  ------       --------------  -----  \n",
      " 0   restaurant   515 non-null    object \n",
      " 1   item         515 non-null    object \n",
      " 2   calories     515 non-null    int64  \n",
      " 3   cal_fat      515 non-null    int64  \n",
      " 4   total_fat    515 non-null    int64  \n",
      " 5   sat_fat      515 non-null    float64\n",
      " 6   trans_fat    515 non-null    float64\n",
      " 7   cholesterol  515 non-null    int64  \n",
      " 8   sodium       515 non-null    int64  \n",
      " 9   total_carb   515 non-null    int64  \n",
      " 10  fiber        503 non-null    float64\n",
      " 11  sugar        515 non-null    int64  \n",
      " 12  protein      514 non-null    float64\n",
      " 13  vit_a        301 non-null    float64\n",
      " 14  vit_c        305 non-null    float64\n",
      " 15  calcium      305 non-null    float64\n",
      " 16  salad        515 non-null    object \n",
      "dtypes: float64(7), int64(7), object(3)\n",
      "memory usage: 68.5+ KB\n"
     ]
    }
   ],
   "source": [
    "missing_values_count.drop(columns=['vit_a','vit_c','calcium'],inplace=True)\n",
    "\n",
    "fastfood_df.info()"
   ]
  },
  {
   "cell_type": "code",
   "execution_count": 4,
   "id": "10218cdb-258a-4637-9e11-d26ade642318",
   "metadata": {},
   "outputs": [
    {
     "name": "stdout",
     "output_type": "stream",
     "text": [
      "      restaurant                                               item  calories  \\\n",
      "192  Burger King                            American Brewhouse King      1550   \n",
      "279  Dairy Queen                               Regular Cheese Curds       550   \n",
      "222  Burger King  Bacon Cheddar Ranch Chicken Salad w/ grilled C...       590   \n",
      "224  Burger King               Chicken BLT Salad w/ Grilled Chicken       550   \n",
      "376       Subway  Chicken & Bacon Ranch Melt Salad (includes Ran...       510   \n",
      "..           ...                                                ...       ...   \n",
      "72   Chick Fil-A                    4 Piece Grilled Chicken Nuggets        70   \n",
      "187        Arbys                                 Chopped Side Salad        70   \n",
      "363       Subway                        Kids Mini Sub Veggie Delite       150   \n",
      "392       Subway                                Veggie Delite Salad        50   \n",
      "302  Dairy Queen                                         Side Salad        20   \n",
      "\n",
      "     cal_fat  total_fat  sat_fat  trans_fat  cholesterol  sodium  total_carb  \\\n",
      "192     1134        126     47.0        8.0          805    1820          21   \n",
      "279      410         45     25.0        0.0          150     900           0   \n",
      "222      360         40     12.0        0.0          150    1540          18   \n",
      "224      330         37     10.0        0.0          115    1640          17   \n",
      "376      340         38     12.0        1.0          100    1040          14   \n",
      "..       ...        ...      ...        ...          ...     ...         ...   \n",
      "72        18          2      1.0        0.0           35     220           1   \n",
      "187       45          5      2.5        0.0           15     100           4   \n",
      "363       15          2      0.0        0.0            0     190          29   \n",
      "392       10          1      0.0        0.0            0      65           9   \n",
      "302        0          0      0.0        0.0            0      15           5   \n",
      "\n",
      "     fiber  sugar  protein  vit_a  vit_c  calcium  salad  \\\n",
      "192    3.0      7    134.0    NaN    NaN      NaN  Other   \n",
      "279    0.0      0     35.0   30.0    0.0    100.0  Other   \n",
      "222    3.0      6     42.0    NaN    NaN      NaN  Other   \n",
      "224    3.0      5     36.0    NaN    NaN      NaN  Other   \n",
      "376    4.0      7     30.0   60.0   60.0     30.0  Other   \n",
      "..     ...    ...      ...    ...    ...      ...    ...   \n",
      "72     0.0      0     13.0    0.0    6.0      0.0  Other   \n",
      "187    1.0      2      5.0   35.0   10.0     10.0  Other   \n",
      "363    3.0      4      6.0    6.0   15.0     20.0  Other   \n",
      "392    4.0      4      3.0   25.0   45.0      4.0  Other   \n",
      "302    2.0      3      1.0   50.0   30.0     15.0  Other   \n",
      "\n",
      "     Total Nutritional Score  \n",
      "192                   129.45  \n",
      "279                    42.00  \n",
      "222                    41.50  \n",
      "224                    37.55  \n",
      "376                    36.30  \n",
      "..                       ...  \n",
      "72                      5.35  \n",
      "187                     5.20  \n",
      "363                     4.65  \n",
      "392                     2.05  \n",
      "302                     0.55  \n",
      "\n",
      "[149 rows x 18 columns]\n"
     ]
    }
   ],
   "source": [
    "nutritional_variables = ['total_carb', 'protein', 'total_fat']\n",
    "\n",
    "nutritional_weights = {'total_carb': 0.05, 'protein': 0.3, 'total_fat': 0.7}\n",
    "\n",
    "fastfood_df['Total Nutritional Score'] = (fastfood_df[nutritional_variables] * nutritional_weights).sum(axis=1)\n",
    "\n",
    "fastfood_df.sort_values('Total Nutritional Score', ascending=False, inplace=True)\n",
    "\n",
    "threshold = 0.7  # Define the desired threshold\n",
    "selected_meals = fastfood_df[fastfood_df['Total Nutritional Score'] >= threshold]\n",
    "\n",
    "# Filter meals with less than 2400 calories\n",
    "filtered_meals = fastfood_df[(fastfood_df['calories'] < 2400) & (fastfood_df['total_carb'] <= 30) & (fastfood_df['protein'] <= 160) & (fastfood_df['total_fat'] <= 182)]\n",
    "\n",
    "print(filtered_meals)\n",
    "\n"
   ]
  },
  {
   "cell_type": "code",
   "execution_count": 9,
   "id": "f5b5e711",
   "metadata": {},
   "outputs": [
    {
     "name": "stdout",
     "output_type": "stream",
     "text": [
      "530.9126213592233\n",
      "26.59029126213592\n",
      "27.891050583657588\n"
     ]
    }
   ],
   "source": [
    "#Average caloric, fat, and carb means \n",
    "calorie_means = fastfood_df[\"calories\"].mean()\n",
    "print(calorie_means)\n",
    "\n",
    "fat_means = fastfood_df[\"total_fat\"].mean()\n",
    "print(fat_means)\n",
    "\n",
    "carbs_means = fastfood_df[\"protein\"].mean()\n",
    "print(carbs_means)"
   ]
  },
  {
   "cell_type": "code",
   "execution_count": 35,
   "id": "34381bc1-6f27-45d8-bea5-5ab9d8908ada",
   "metadata": {},
   "outputs": [
    {
     "name": "stdout",
     "output_type": "stream",
     "text": [
      "      restaurant                                        item  protein  \\\n",
      "39     Mcdonalds  20 piece Buttermilk Crispy Chicken Tenders    186.0   \n",
      "192  Burger King                     American Brewhouse King    134.0   \n",
      "38     Mcdonalds  12 piece Buttermilk Crispy Chicken Tenders    115.0   \n",
      "69   Chick Fil-A                    30 piece Chicken Nuggets    103.0   \n",
      "44     Mcdonalds                  40 piece Chicken McNuggets     98.0   \n",
      "\n",
      "     calories  \n",
      "39       2430  \n",
      "192      1550  \n",
      "38       1510  \n",
      "69        970  \n",
      "44       1770  \n"
     ]
    }
   ],
   "source": [
    "#Collects the top 5 highest protein foods and general information\n",
    "highest_protein_df = fastfood_df.sort_values(by = 'protein', ascending = False)\n",
    "print(highest_protein_df[['restaurant','item','protein','calories']].head(5))"
   ]
  },
  {
   "cell_type": "code",
   "execution_count": 33,
   "id": "78b56450",
   "metadata": {},
   "outputs": [
    {
     "data": {
      "image/png": "[encoded data removed]",
      "text/plain": [
       "<Figure size 640x480 with 1 Axes>"
      ]
     },
     "metadata": {},
     "output_type": "display_data"
    },
    {
     "name": "stdout",
     "output_type": "stream",
     "text": [
      "Correlation Index:  0.6036454153900283\n"
     ]
    }
   ],
   "source": [
    "#Imports plots\n",
    "import matplotlib as mpl\n",
    "import matplotlib.pyplot as plt\n",
    "\n",
    "#Looks for a correlation between high protein and saturated fat \n",
    "plt.scatter(fastfood_df['protein'], fastfood_df['sat_fat'])\n",
    "plt.title(\"Relationship between protein and saturated fat\")\n",
    "plt.xlabel('Protein')\n",
    "plt.ylabel('Saturated Fat')\n",
    "plt.show()\n",
    "\n",
    "index_corr = fastfood_df['protein'].corr(fastfood_df['sat_fat'])\n",
    "print(\"Correlation Index: \", index_corr)"
   ]
  },
  {
   "cell_type": "code",
   "execution_count": 34,
   "id": "d3f33291",
   "metadata": {},
   "outputs": [
    {
     "data": {
      "image/png": "[encoded data removed]",
      "text/plain": [
       "<Figure size 640x480 with 1 Axes>"
      ]
     },
     "metadata": {},
     "output_type": "display_data"
    },
    {
     "name": "stdout",
     "output_type": "stream",
     "text": [
      "Correlation Index:  0.3899589866590162\n"
     ]
    }
   ],
   "source": [
    "#Looks for a correlation between high protein and sugar\n",
    "plt.scatter(fastfood_df['protein'], fastfood_df['sugar'])\n",
    "plt.title(\"Relationship between protein and sugar\")\n",
    "plt.xlabel('Protein')\n",
    "plt.ylabel('Sugar')\n",
    "plt.show()\n",
    "\n",
    "index_corr = fastfood_df['protein'].corr(fastfood_df['sugar'])\n",
    "print(\"Correlation Index: \", index_corr)"
   ]
  },
  {
   "cell_type": "code",
   "execution_count": null,
   "id": "8b54216d",
   "metadata": {},
   "outputs": [],
   "source": []
  }
 ],
 "metadata": {
  "kernelspec": {
   "display_name": "Python 3 (ipykernel)",
   "language": "python",
   "name": "python3"
  },
  "language_info": {
   "codemirror_mode": {
    "name": "ipython",
    "version": 3
   },
   "file_extension": ".py",
   "mimetype": "text/x-python",
   "name": "python",
   "nbconvert_exporter": "python",
   "pygments_lexer": "ipython3",
   "version": "3.9.13"
  }
 },
 "nbformat": 4,
 "nbformat_minor": 5
}
